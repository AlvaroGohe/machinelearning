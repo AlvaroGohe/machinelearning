{
 "cells": [
  {
   "cell_type": "markdown",
   "metadata": {},
   "source": [
    "# Kernel Methods\n",
    "\n",
    "Kernel methods are a powerful set of techniques in machine learning that are used for building non-linear prediction models.\n",
    "\n",
    "In previous weeks of the study group, we saw how to construct linear models that allows us to find trends in data. However, as we know, most phenomenon that machine learning excels at studying, from image recognition to natural language processing, are inherently non-linear.\n",
    "\n",
    "Kernels provide a way to solve non-linear problems by transforming them into equivalent problems that can be solved using linear methods in high or infinite-dimensional vector spaces.\n",
    "\n",
    "## Let's start with an example\n",
    "A very illustrative example is the following:\n",
    "\n",
    "Suppose that we want to build a model that allows to classify between two types of data and we have the following samples:\n",
    "\n",
    "![Some points in the plane](data.pdf)"
   ]
  },
  {
   "cell_type": "markdown",
   "metadata": {},
   "source": [
    "It is quite clear that a linear model use here is not going to do very well, but it seems like this data could be approximated well by a closed shape, like a circle. Now, here is the trick on how to classify the data. Instead of trying to fit a linear model on the data $\\{x_1,x_2\\}\\in\\mathbb{R}^2$, we generate points in $\\mathbb{R}^5$ of the form $\\{x_1,x_2,x_1^2,x_1x_2,x_2^2\\}$ and try to use a linear model to separate the data.\n",
    "\n",
    "Indeed, just by considering $\\{x_1^2,x_2^2\\}$, we can easily see that the data can be easily separated with a hyperplane."
   ]
  }
 ],
 "metadata": {
  "kernelspec": {
   "display_name": "base",
   "language": "python",
   "name": "python3"
  },
  "language_info": {
   "codemirror_mode": {
    "name": "ipython",
    "version": 3
   },
   "file_extension": ".py",
   "mimetype": "text/x-python",
   "name": "python",
   "nbconvert_exporter": "python",
   "pygments_lexer": "ipython3",
   "version": "3.9.12"
  }
 },
 "nbformat": 4,
 "nbformat_minor": 2
}
