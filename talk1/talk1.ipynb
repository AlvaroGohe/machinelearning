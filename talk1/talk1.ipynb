{
 "cells": [
  {
   "cell_type": "markdown",
   "metadata": {},
   "source": [
    "# Talk 1\n",
    "\n",
    "Objective of session:\n",
    "\n",
    "> Get a working setup with Jupyter notebooks, making sure to have `numpy`, `scikit-learn`, `jax`, `jupyter`and `matplotlib`  packages installed. Can do this locally (more effort, but then don't need an internet connection) or via [Google Colab](https://colab.research.google.com/) (much less effort to set up, but need internet connection and a Google account; Colab also provides limited GPU access which will be useful for neural network training later on in the reading group). \n",
    "\n",
    "To do this, there are 2 options for installion:\n",
    "\n",
    "1. **Easiest**: Setting up a Google Colab as an alternative (also show how you can change between CPU, GPU, and TPU usage on Colab by going into the \"Runtime\" menu option). [Google Collab](https://colab.research.google.com/). Copy and Paste this file there, and you will be ready to go! All packages will be available. \n",
    "\n",
    "2. **Local Copy**: Firstly, install [Python](https://www.python.org/downloads/). Then download [VS Code](https://code.visualstudio.com/). Open up VS Code, open up a terminal. Now its time to download packages. \n",
    "\n",
    "*Option 1*: pip install them. Type seperatley and then hit enter with the following statements into the terminal: `pip install numpy`, then `pip install -U scikit-learn`, `pip install -U jax`, `pip install jupyter` and `pip install -U matplotlib`. \n",
    "\n",
    "*Option 2*: You can download [Anaconda](https://www.anaconda.com/download) to manage the packages and find and download `numpy`, `scikit-learn`, `jax`, `jupter` and `matplotlib`. \n",
    "\n",
    "Rmk: In either case, explain difference between \"Code\" blocks and \"Text\" blocks in Jupyter notebook. Explain the fact that you can run cells in any order, and there is a \"global state\" where all the variables live. Encourage people to regularly test their notebooks by clicking \"Restart\" (deletes all the old variables) and rerun all cells in order to avoid [problems](https://erikjandevries.medium.com/when-and-how-jupyter-notebooks-fail-and-what-to-use-instead-a52c27dbaa4c)."
   ]
  },
  {
   "cell_type": "code",
   "execution_count": 2,
   "metadata": {},
   "outputs": [],
   "source": [
    "# Import the packages we will use throughout the reading group\n",
    "\n",
    "import jax.numpy as jnp\n",
    "import numpy as np\n",
    "import sklearn.datasets"
   ]
  },
  {
   "cell_type": "code",
   "execution_count": 4,
   "metadata": {},
   "outputs": [
    {
     "name": "stdout",
     "output_type": "stream",
     "text": [
      "A:\n",
      "[[2 0]\n",
      " [1 1]]\n",
      "(2, 2)\n",
      "x:\n",
      "[2 0]\n",
      "(2,)\n",
      "y:\n",
      "[4 2]\n",
      "(2,)\n",
      "y_wrong:\n",
      "[[4 0]\n",
      " [2 0]]\n",
      "(2, 2)\n"
     ]
    }
   ],
   "source": [
    "# First, demonstrate the use of `numpy`, which allows us to use vectors, matrices, and n-dimensional arrays.\n",
    "# We'll do a simple matrix multiplication:\n",
    "\n",
    "A = np.array([[2, 0], [1, 1]])\n",
    "print(\"A:\")\n",
    "print(A)\n",
    "print(A.shape)\n",
    "\n",
    "x = np.array([2, 0])\n",
    "print(\"x:\")\n",
    "print(x)\n",
    "print(x.shape)\n",
    "\n",
    "# Matrix multiplication is done via the @ operator:\n",
    "\n",
    "y = A @ x\n",
    "print(\"y:\")\n",
    "print(y)\n",
    "print(y.shape)\n",
    "\n",
    "# BEWARE: don't use * for matrix multiplication\n",
    "# numpy does something called \"broadcasting\" to multiply things of different\n",
    "# shapes---details not relevant, but just remember * and @ are not the same.\n",
    "y_wrong = A * x\n",
    "print(\"y_wrong:\")\n",
    "print(y_wrong)\n",
    "print(y_wrong.shape)"
   ]
  },
  {
   "cell_type": "code",
   "execution_count": 5,
   "metadata": {},
   "outputs": [
    {
     "name": "stdout",
     "output_type": "stream",
     "text": [
      "[2 0]\n",
      "(2,)\n"
     ]
    }
   ],
   "source": [
    "# Next, we'll test `jax`. You can think of this as a version of `numpy` that allows Python to automatically differentiate\n",
    "# the functions we define. This will be very useful later on; but we won't use `jax` for the first few weeks.\n",
    "# The `jax` version of `numpy` looks just the same from the outside, though:\n",
    "\n",
    "A = jnp.array([[1, 2], [0, 1]])\n",
    "x = jnp.array([2, 0])\n",
    "y = A @ x\n",
    "print(y)\n",
    "print(y.shape)"
   ]
  },
  {
   "cell_type": "code",
   "execution_count": 6,
   "metadata": {},
   "outputs": [
    {
     "name": "stdout",
     "output_type": "stream",
     "text": [
      "X\n",
      "[[  5. 162.  60.]\n",
      " [  2. 110.  60.]\n",
      " [ 12. 101. 101.]\n",
      " [ 12. 105.  37.]\n",
      " [ 13. 155.  58.]\n",
      " [  4. 101.  42.]\n",
      " [  8. 101.  38.]\n",
      " [  6. 125.  40.]\n",
      " [ 15. 200.  40.]\n",
      " [ 17. 251. 250.]\n",
      " [ 17. 120.  38.]\n",
      " [ 13. 210. 115.]\n",
      " [ 14. 215. 105.]\n",
      " [  1.  50.  50.]\n",
      " [  6.  70.  31.]\n",
      " [ 12. 210. 120.]\n",
      " [  4.  60.  25.]\n",
      " [ 11. 230.  80.]\n",
      " [ 15. 225.  73.]\n",
      " [  2. 110.  43.]]\n",
      "y\n",
      "[[191.  36.  50.]\n",
      " [189.  37.  52.]\n",
      " [193.  38.  58.]\n",
      " [162.  35.  62.]\n",
      " [189.  35.  46.]\n",
      " [182.  36.  56.]\n",
      " [211.  38.  56.]\n",
      " [167.  34.  60.]\n",
      " [176.  31.  74.]\n",
      " [154.  33.  56.]\n",
      " [169.  34.  50.]\n",
      " [166.  33.  52.]\n",
      " [154.  34.  64.]\n",
      " [247.  46.  50.]\n",
      " [193.  36.  46.]\n",
      " [202.  37.  62.]\n",
      " [176.  37.  54.]\n",
      " [157.  32.  52.]\n",
      " [156.  33.  54.]\n",
      " [138.  33.  68.]]\n",
      "120.0\n"
     ]
    }
   ],
   "source": [
    "# Finally, we'll test `scikit-learn`. This is a package that contains lots of prebuilt machine-learning algorithms\n",
    "# that we can just use \"out of the box\" without needing to understand the details of each method.\n",
    "# It also contains some datasets that we can play with, e.g., the \"Linnerud\" dataset, which contains physiological data from 20\n",
    "# people, which we can think of as vectors in R^3: weight, waist, and pulse. It also contains 20 corresponding vectors in R^3, the\n",
    "# number of chin-ups, sit-ups, and jumps that those people could do.\n",
    "#\n",
    "# The dataset is set up to use the exercise variables as the known quantities, which we call X, to predict the physiological quantities,\n",
    "# which we call y\n",
    "\n",
    "\n",
    "X, y = sklearn.datasets.load_linnerud(return_X_y=True)\n",
    "# The values are chin-ups, sit-ups, jumps respectively\n",
    "print(\"X\")\n",
    "print(X)\n",
    "# The values are weight, waist, and pulse, respectively.\n",
    "print(\"y\")\n",
    "print(y)\n",
    "\n",
    "# We can access a specific value like so:\n",
    "# sit-ups (index 1 in the second dimension) of the 11th person (index 10 in the first dimension)\n",
    "# [!] remember Python arrays start at index 0.\n",
    "print(X[10, 1])"
   ]
  }
 ],
 "metadata": {
  "kernelspec": {
   "display_name": "Python 3",
   "language": "python",
   "name": "python3"
  },
  "language_info": {
   "codemirror_mode": {
    "name": "ipython",
    "version": 3
   },
   "file_extension": ".py",
   "mimetype": "text/x-python",
   "name": "python",
   "nbconvert_exporter": "python",
   "pygments_lexer": "ipython3",
   "version": "3.11.9"
  }
 },
 "nbformat": 4,
 "nbformat_minor": 2
}
